{
 "cells": [
  {
   "cell_type": "markdown",
   "metadata": {},
   "source": [
    "# Training Models to predict Sentiment "
   ]
  },
  {
   "cell_type": "markdown",
   "metadata": {},
   "source": [
    "In this notebook, we will train various models using the cleaned movie review dataset (refer to **cleaning** notebook for pre processing steps) to predict the sentiment and evaluate the performance of each"
   ]
  },
  {
   "cell_type": "code",
   "execution_count": 7,
   "metadata": {},
   "outputs": [],
   "source": [
    "import pandas as pd\n",
    "import numpy as np\n",
    "import tensorflow as tf\n",
    "import re\n",
    "import os\n",
    "import sys\n",
    "import optuna\n",
    "from transformer_block import TransformerBlock\n",
    "from tensorflow.keras.models import Sequential, Model\n",
    "from tensorflow.keras.layers import Embedding, LSTM, Dense, Dropout, Input, GlobalAveragePooling1D\n",
    "from tensorflow.keras.optimizers import Adam\n",
    "from tensorflow.keras.callbacks import EarlyStopping\n",
    "from tensorflow.keras.preprocessing.text import Tokenizer\n",
    "from tensorflow.keras.models import load_model\n",
    "from sklearn.model_selection import train_test_split\n",
    "import matplotlib.pyplot as plt\n",
    "import logging"
   ]
  },
  {
   "cell_type": "code",
   "execution_count": 8,
   "metadata": {},
   "outputs": [],
   "source": [
    "# Set seeds for reproducibility\n",
    "np.random.seed(42)\n",
    "tf.random.set_seed(42)"
   ]
  },
  {
   "cell_type": "code",
   "execution_count": 9,
   "metadata": {},
   "outputs": [
    {
     "data": {
      "text/html": [
       "<div>\n",
       "<style scoped>\n",
       "    .dataframe tbody tr th:only-of-type {\n",
       "        vertical-align: middle;\n",
       "    }\n",
       "\n",
       "    .dataframe tbody tr th {\n",
       "        vertical-align: top;\n",
       "    }\n",
       "\n",
       "    .dataframe thead th {\n",
       "        text-align: right;\n",
       "    }\n",
       "</style>\n",
       "<table border=\"1\" class=\"dataframe\">\n",
       "  <thead>\n",
       "    <tr style=\"text-align: right;\">\n",
       "      <th></th>\n",
       "      <th>review</th>\n",
       "      <th>sentiment</th>\n",
       "      <th>padded_sequences</th>\n",
       "    </tr>\n",
       "  </thead>\n",
       "  <tbody>\n",
       "    <tr>\n",
       "      <th>0</th>\n",
       "      <td>one reviewer mentioned watching 1 oz episode y...</td>\n",
       "      <td>positive</td>\n",
       "      <td>[    4  1023   946    68   417  3107   178   3...</td>\n",
       "    </tr>\n",
       "    <tr>\n",
       "      <th>1</th>\n",
       "      <td>wonderful little production filming technique ...</td>\n",
       "      <td>positive</td>\n",
       "      <td>[  293    47   241  1236  1611 15988     1  13...</td>\n",
       "    </tr>\n",
       "    <tr>\n",
       "      <th>2</th>\n",
       "      <td>thought wonderful way spend tear eye hot summe...</td>\n",
       "      <td>positive</td>\n",
       "      <td>[   97   293    26   994    12     8   788  13...</td>\n",
       "    </tr>\n",
       "    <tr>\n",
       "      <th>3</th>\n",
       "      <td>basically there family little boy jake think t...</td>\n",
       "      <td>negative</td>\n",
       "      <td>[  584   134   125    47   207  3362    31   1...</td>\n",
       "    </tr>\n",
       "    <tr>\n",
       "      <th>4</th>\n",
       "      <td>petter matteis love tear eye money visually st...</td>\n",
       "      <td>positive</td>\n",
       "      <td>[    1     1    36    12     8   200  1977  12...</td>\n",
       "    </tr>\n",
       "    <tr>\n",
       "      <th>...</th>\n",
       "      <td>...</td>\n",
       "      <td>...</td>\n",
       "      <td>...</td>\n",
       "    </tr>\n",
       "    <tr>\n",
       "      <th>49995</th>\n",
       "      <td>thought movie right good job wasnt creative or...</td>\n",
       "      <td>positive</td>\n",
       "      <td>[  97    2  107    6  182  192 1348  120   25 ...</td>\n",
       "    </tr>\n",
       "    <tr>\n",
       "      <th>49996</th>\n",
       "      <td>bad plot bad dialogue bad acting idiotic direc...</td>\n",
       "      <td>negative</td>\n",
       "      <td>[   22    41    22   286    22    45  2748   8...</td>\n",
       "    </tr>\n",
       "    <tr>\n",
       "      <th>49997</th>\n",
       "      <td>catholic taught parochial elementary school nu...</td>\n",
       "      <td>negative</td>\n",
       "      <td>[ 2958  3919     1  7505   266  4122  3919    ...</td>\n",
       "    </tr>\n",
       "    <tr>\n",
       "      <th>49998</th>\n",
       "      <td>im going disagree previous comment side maltin...</td>\n",
       "      <td>negative</td>\n",
       "      <td>[   66    79  2760   777   345   352 10353    ...</td>\n",
       "    </tr>\n",
       "    <tr>\n",
       "      <th>49999</th>\n",
       "      <td>one expects star trek movie high art fan expec...</td>\n",
       "      <td>negative</td>\n",
       "      <td>[   4 5245  110 1871    2  232  337  111  416 ...</td>\n",
       "    </tr>\n",
       "  </tbody>\n",
       "</table>\n",
       "<p>50000 rows × 3 columns</p>\n",
       "</div>"
      ],
      "text/plain": [
       "                                                  review  ...                                   padded_sequences\n",
       "0      one reviewer mentioned watching 1 oz episode y...  ...  [    4  1023   946    68   417  3107   178   3...\n",
       "1      wonderful little production filming technique ...  ...  [  293    47   241  1236  1611 15988     1  13...\n",
       "2      thought wonderful way spend tear eye hot summe...  ...  [   97   293    26   994    12     8   788  13...\n",
       "3      basically there family little boy jake think t...  ...  [  584   134   125    47   207  3362    31   1...\n",
       "4      petter matteis love tear eye money visually st...  ...  [    1     1    36    12     8   200  1977  12...\n",
       "...                                                  ...  ...                                                ...\n",
       "49995  thought movie right good job wasnt creative or...  ...  [  97    2  107    6  182  192 1348  120   25 ...\n",
       "49996  bad plot bad dialogue bad acting idiotic direc...  ...  [   22    41    22   286    22    45  2748   8...\n",
       "49997  catholic taught parochial elementary school nu...  ...  [ 2958  3919     1  7505   266  4122  3919    ...\n",
       "49998  im going disagree previous comment side maltin...  ...  [   66    79  2760   777   345   352 10353    ...\n",
       "49999  one expects star trek movie high art fan expec...  ...  [   4 5245  110 1871    2  232  337  111  416 ...\n",
       "\n",
       "[50000 rows x 3 columns]"
      ]
     },
     "execution_count": 9,
     "metadata": {},
     "output_type": "execute_result"
    }
   ],
   "source": [
    "imdb_data = pd.read_csv('../data/clean/cleaned_imdb_data.csv')\n",
    "imdb_data"
   ]
  },
  {
   "cell_type": "markdown",
   "metadata": {},
   "source": [
    "Lets first format the **padded_sequences** column so it can be treated like a list :"
   ]
  },
  {
   "cell_type": "code",
   "execution_count": 10,
   "metadata": {},
   "outputs": [],
   "source": [
    "def fix_sequence_format(sequence_str):\n",
    "    # Remove extra spaces and convert to proper list format\n",
    "    sequence_str = re.sub(r'\\s+', ',', sequence_str.strip())  \n",
    "    sequence_str = sequence_str.replace('[,', '[')  \n",
    "    sequence_str = sequence_str.replace(',]', ']')  \n",
    "    return eval(sequence_str) \n",
    "\n",
    "imdb_data['padded_sequences'] = imdb_data['padded_sequences'].apply(fix_sequence_format)"
   ]
  },
  {
   "cell_type": "code",
   "execution_count": 11,
   "metadata": {},
   "outputs": [
    {
     "data": {
      "text/html": [
       "<div>\n",
       "<style scoped>\n",
       "    .dataframe tbody tr th:only-of-type {\n",
       "        vertical-align: middle;\n",
       "    }\n",
       "\n",
       "    .dataframe tbody tr th {\n",
       "        vertical-align: top;\n",
       "    }\n",
       "\n",
       "    .dataframe thead th {\n",
       "        text-align: right;\n",
       "    }\n",
       "</style>\n",
       "<table border=\"1\" class=\"dataframe\">\n",
       "  <thead>\n",
       "    <tr style=\"text-align: right;\">\n",
       "      <th></th>\n",
       "      <th>review</th>\n",
       "      <th>sentiment</th>\n",
       "      <th>padded_sequences</th>\n",
       "    </tr>\n",
       "  </thead>\n",
       "  <tbody>\n",
       "    <tr>\n",
       "      <th>0</th>\n",
       "      <td>one reviewer mentioned watching 1 oz episode y...</td>\n",
       "      <td>positive</td>\n",
       "      <td>[4, 1023, 946, 68, 417, 3107, 178, 369, 2916, ...</td>\n",
       "    </tr>\n",
       "    <tr>\n",
       "      <th>1</th>\n",
       "      <td>wonderful little production filming technique ...</td>\n",
       "      <td>positive</td>\n",
       "      <td>[293, 47, 241, 1236, 1611, 15988, 1, 1357, 61,...</td>\n",
       "    </tr>\n",
       "    <tr>\n",
       "      <th>2</th>\n",
       "      <td>thought wonderful way spend tear eye hot summe...</td>\n",
       "      <td>positive</td>\n",
       "      <td>[97, 293, 26, 994, 12, 8, 788, 1304, 2215, 107...</td>\n",
       "    </tr>\n",
       "    <tr>\n",
       "      <th>3</th>\n",
       "      <td>basically there family little boy jake think t...</td>\n",
       "      <td>negative</td>\n",
       "      <td>[584, 134, 125, 47, 207, 3362, 31, 134, 525, 3...</td>\n",
       "    </tr>\n",
       "    <tr>\n",
       "      <th>4</th>\n",
       "      <td>petter matteis love tear eye money visually st...</td>\n",
       "      <td>positive</td>\n",
       "      <td>[1, 1, 36, 12, 8, 200, 1977, 1252, 3, 35, 284,...</td>\n",
       "    </tr>\n",
       "  </tbody>\n",
       "</table>\n",
       "</div>"
      ],
      "text/plain": [
       "                                              review  ...                                   padded_sequences\n",
       "0  one reviewer mentioned watching 1 oz episode y...  ...  [4, 1023, 946, 68, 417, 3107, 178, 369, 2916, ...\n",
       "1  wonderful little production filming technique ...  ...  [293, 47, 241, 1236, 1611, 15988, 1, 1357, 61,...\n",
       "2  thought wonderful way spend tear eye hot summe...  ...  [97, 293, 26, 994, 12, 8, 788, 1304, 2215, 107...\n",
       "3  basically there family little boy jake think t...  ...  [584, 134, 125, 47, 207, 3362, 31, 134, 525, 3...\n",
       "4  petter matteis love tear eye money visually st...  ...  [1, 1, 36, 12, 8, 200, 1977, 1252, 3, 35, 284,...\n",
       "\n",
       "[5 rows x 3 columns]"
      ]
     },
     "execution_count": 11,
     "metadata": {},
     "output_type": "execute_result"
    }
   ],
   "source": [
    "imdb_data.head()"
   ]
  },
  {
   "cell_type": "markdown",
   "metadata": {},
   "source": [
    "Lets now preprocess the **IMDB dataset** by converting sentiment labels to numerical values (0 for negative, 1 for positive) and split the data into training, validation, and testing sets using stratified sampling to maintain the class balance :"
   ]
  },
  {
   "cell_type": "code",
   "execution_count": 12,
   "metadata": {},
   "outputs": [],
   "source": [
    "# Convert labels to numerical values (0 for negative, 1 for positive)\n",
    "imdb_data['sentiment'] = imdb_data['sentiment'].map({'negative': 0, 'positive': 1})\n",
    "X = imdb_data['padded_sequences'].tolist()\n",
    "y = imdb_data['sentiment']\n",
    "\n",
    "X_train_val, X_test, y_train_val, y_test = train_test_split(\n",
    "    X, y, test_size=0.15, random_state=42, stratify=y\n",
    ")\n",
    "\n",
    "#split train_val into 70% train and 15% validation\n",
    "X_train, X_val, y_train, y_val = train_test_split(\n",
    "    X_train_val, y_train_val, test_size=0.176, random_state=42, stratify=y_train_val\n",
    ")  # 0.176 ensures 15% of the original dataset goes to validation\n"
   ]
  },
  {
   "cell_type": "code",
   "execution_count": 13,
   "metadata": {},
   "outputs": [],
   "source": [
    "X_train = np.array(X_train)\n",
    "X_test = np.array(X_test)\n",
    "y_train = np.array(y_train)\n",
    "y_test = np.array(y_test)\n",
    "X_val = np.array(X_val)\n",
    "y_val = np.array(y_val)"
   ]
  },
  {
   "cell_type": "code",
   "execution_count": 14,
   "metadata": {},
   "outputs": [
    {
     "name": "stdout",
     "output_type": "stream",
     "text": [
      "int32 int32 int64 int64 int32 int64\n"
     ]
    }
   ],
   "source": [
    "print(X_train.dtype, X_test.dtype, y_train.dtype, y_test.dtype, X_val.dtype, y_val.dtype)"
   ]
  },
  {
   "cell_type": "code",
   "execution_count": 15,
   "metadata": {},
   "outputs": [],
   "source": [
    "y_train = y_train.astype(np.int32)\n",
    "y_test = y_test.astype(np.int32)\n",
    "y_val = y_val.astype(np.int32)"
   ]
  },
  {
   "cell_type": "code",
   "execution_count": 16,
   "metadata": {},
   "outputs": [
    {
     "name": "stdout",
     "output_type": "stream",
     "text": [
      "int32 int32 int32 int32 int32 int32\n"
     ]
    }
   ],
   "source": [
    "print(X_train.dtype, X_test.dtype, y_train.dtype, y_test.dtype, X_val.dtype, y_val.dtype)"
   ]
  },
  {
   "cell_type": "code",
   "execution_count": 17,
   "metadata": {},
   "outputs": [
    {
     "name": "stdout",
     "output_type": "stream",
     "text": [
      "(35020, 300) (35020,) (7500, 300) (7500,) (7480, 300) (7480,)\n"
     ]
    }
   ],
   "source": [
    "print(X_train.shape, y_train.shape, X_test.shape, y_test.shape, X_val.shape, y_val.shape)"
   ]
  },
  {
   "cell_type": "markdown",
   "metadata": {},
   "source": [
    "***"
   ]
  },
  {
   "cell_type": "markdown",
   "metadata": {},
   "source": [
    "#### For an initial baseline, I have chosen an LSTM based model. LSTM's are a decent choice as they are well-established for sequence modeling tasks like sentiment analysis. They can effectively capture the temporal dependencies and sequential patterns in text data, handling long input sequences better than simple RNNs. Given the relatively moderate size and complexity of the IMDB dataset, LSTMs provide a strong and reliable starting point, offering competitive performance with manageable computational requirements."
   ]
  },
  {
   "cell_type": "markdown",
   "metadata": {},
   "source": [
    "## Model Architecture "
   ]
  },
  {
   "cell_type": "markdown",
   "metadata": {},
   "source": [
    "**Embedding Layer** :\n",
    "\n",
    "-   Converts tokenized words into dense vector representations of size 128\n",
    "\n",
    "-   Supports a vocabulary size of 20,000 words.\n",
    "\n",
    "\n",
    "**First LSTM Layer** :\n",
    "\n",
    "-   128 LSTM units capture long-range dependencies in text sequences\n",
    "\n",
    "-   **return_sequences=True** ensures it passes the full sequence to the next layer.\n",
    "\n",
    "**Second LSTM Layer** :\n",
    "\n",
    "-  64 LSTM units extract deeper sequential features\n",
    "\n",
    "\n",
    "-   **return_sequences=False** outputs only the final hidden state (a single vector).\n",
    "\n",
    "\n",
    "**Dense Output Layer** :\n",
    "\n",
    "-   A single neuron with sigmoid activation for binary classification (positive/negative sentiment)."
   ]
  },
  {
   "cell_type": "markdown",
   "metadata": {},
   "source": [
    "#### Additional Components :\n",
    "\n",
    "-   **Early Stopping** : Stops training if validation loss doesn’t improve for 3 epochs and restores the best model.\n",
    "\n",
    "-   **Adam Optimizer** : Adaptive optimization for stable and efficient training."
   ]
  },
  {
   "cell_type": "code",
   "execution_count": 25,
   "metadata": {},
   "outputs": [],
   "source": [
    "model = Sequential([\n",
    "    Embedding(input_dim=20000, output_dim=128), \n",
    "    LSTM(128, return_sequences=True),\n",
    "    LSTM(64, return_sequences=False), \n",
    "    Dense(1, activation='sigmoid')  \n",
    "])\n",
    "\n",
    "early_stopping = EarlyStopping(\n",
    "    monitor=\"val_loss\",  \n",
    "    patience=3,           \n",
    "    restore_best_weights=True\n",
    ")\n",
    "\n",
    "model.compile(loss='binary_crossentropy', optimizer=Adam(learning_rate=0.001), metrics=['accuracy'])"
   ]
  },
  {
   "cell_type": "code",
   "execution_count": 26,
   "metadata": {},
   "outputs": [
    {
     "name": "stdout",
     "output_type": "stream",
     "text": [
      "Epoch 1/15\n",
      "\u001b[1m548/548\u001b[0m \u001b[32m━━━━━━━━━━━━━━━━━━━━\u001b[0m\u001b[37m\u001b[0m \u001b[1m226s\u001b[0m 407ms/step - accuracy: 0.5016 - loss: 0.6936 - val_accuracy: 0.5000 - val_loss: 0.6933\n",
      "Epoch 2/15\n",
      "\u001b[1m548/548\u001b[0m \u001b[32m━━━━━━━━━━━━━━━━━━━━\u001b[0m\u001b[37m\u001b[0m \u001b[1m233s\u001b[0m 425ms/step - accuracy: 0.5097 - loss: 0.6892 - val_accuracy: 0.5015 - val_loss: 0.6944\n",
      "Epoch 3/15\n",
      "\u001b[1m548/548\u001b[0m \u001b[32m━━━━━━━━━━━━━━━━━━━━\u001b[0m\u001b[37m\u001b[0m \u001b[1m250s\u001b[0m 456ms/step - accuracy: 0.5222 - loss: 0.6676 - val_accuracy: 0.5035 - val_loss: 0.7103\n",
      "Epoch 4/15\n",
      "\u001b[1m548/548\u001b[0m \u001b[32m━━━━━━━━━━━━━━━━━━━━\u001b[0m\u001b[37m\u001b[0m \u001b[1m253s\u001b[0m 462ms/step - accuracy: 0.6225 - loss: 0.6126 - val_accuracy: 0.8290 - val_loss: 0.4396\n",
      "Epoch 5/15\n",
      "\u001b[1m548/548\u001b[0m \u001b[32m━━━━━━━━━━━━━━━━━━━━\u001b[0m\u001b[37m\u001b[0m \u001b[1m253s\u001b[0m 461ms/step - accuracy: 0.8567 - loss: 0.3601 - val_accuracy: 0.8711 - val_loss: 0.3358\n",
      "Epoch 6/15\n",
      "\u001b[1m548/548\u001b[0m \u001b[32m━━━━━━━━━━━━━━━━━━━━\u001b[0m\u001b[37m\u001b[0m \u001b[1m254s\u001b[0m 463ms/step - accuracy: 0.9210 - loss: 0.2246 - val_accuracy: 0.8678 - val_loss: 0.3735\n",
      "Epoch 7/15\n",
      "\u001b[1m548/548\u001b[0m \u001b[32m━━━━━━━━━━━━━━━━━━━━\u001b[0m\u001b[37m\u001b[0m \u001b[1m258s\u001b[0m 470ms/step - accuracy: 0.9493 - loss: 0.1584 - val_accuracy: 0.8703 - val_loss: 0.3971\n",
      "Epoch 8/15\n",
      "\u001b[1m548/548\u001b[0m \u001b[32m━━━━━━━━━━━━━━━━━━━━\u001b[0m\u001b[37m\u001b[0m \u001b[1m255s\u001b[0m 466ms/step - accuracy: 0.9638 - loss: 0.1209 - val_accuracy: 0.8774 - val_loss: 0.3906\n"
     ]
    }
   ],
   "source": [
    "history = model.fit(X_train, y_train, epochs=15, batch_size=64, validation_data=(X_val, y_val), callbacks=[early_stopping])"
   ]
  },
  {
   "cell_type": "code",
   "execution_count": 27,
   "metadata": {},
   "outputs": [
    {
     "name": "stderr",
     "output_type": "stream",
     "text": [
      "WARNING:absl:You are saving your model as an HDF5 file via `model.save()` or `keras.saving.save_model(model)`. This file format is considered legacy. We recommend using instead the native Keras format, e.g. `model.save('my_model.keras')` or `keras.saving.save_model(model, 'my_model.keras')`. \n"
     ]
    }
   ],
   "source": [
    "model.save('./baseline_models/LSTM_model.h5')"
   ]
  },
  {
   "cell_type": "code",
   "execution_count": 28,
   "metadata": {},
   "outputs": [
    {
     "data": {
      "image/png": "[encoded data removed]",
      "text/plain": [
       "<Figure size 1200x500 with 2 Axes>"
      ]
     },
     "metadata": {},
     "output_type": "display_data"
    }
   ],
   "source": [
    "train_loss = history.history['loss']\n",
    "val_loss = history.history['val_loss']\n",
    "train_acc = history.history['accuracy']\n",
    "val_acc = history.history['val_accuracy']\n",
    "\n",
    "# Create subplots\n",
    "plt.figure(figsize=(12, 5))\n",
    "\n",
    "# Plot Accuracy\n",
    "plt.subplot(1, 2, 1)\n",
    "plt.plot(train_acc, label='Training Accuracy')\n",
    "plt.plot(val_acc, label='Validation Accuracy')\n",
    "plt.xlabel('Epochs', fontsize=12, fontweight='bold')\n",
    "plt.ylabel('Accuracy', fontsize=12, fontweight='bold')\n",
    "plt.title('Training vs Validation Accuracy', fontsize=15, fontweight='bold')\n",
    "plt.legend()\n",
    "\n",
    "# Plot Loss\n",
    "plt.subplot(1, 2, 2)\n",
    "plt.plot(train_loss, label='Training Loss')\n",
    "plt.plot(val_loss, label='Validation Loss')\n",
    "plt.xlabel('Epochs', fontsize=12, fontweight='bold')\n",
    "plt.ylabel('Loss', fontsize=12, fontweight='bold')\n",
    "plt.title('Training vs Validation Loss', fontsize=15, fontweight='bold')\n",
    "plt.legend()\n",
    "\n",
    "plt.show()"
   ]
  },
  {
   "cell_type": "markdown",
   "metadata": {},
   "source": [
    "## Interpretation of Graphs :"
   ]
  },
  {
   "cell_type": "markdown",
   "metadata": {},
   "source": [
    "**Training vs Validation Accuracy (Left Plot)** :\n",
    "\n",
    "-   Training accuracy keeps increasing\n",
    "\n",
    "-   Validation accuracy peaks (~85%) around epoch 4 and then slightly declines/steadies out\n",
    "\n",
    "-   Indicates overfitting : The model learns the training data too well but struggles to generalize\n",
    "\n",
    "**Training vs Validation Loss (Right Plot)** :\n",
    "\n",
    "-   Training loss keeps decreasing, showing continuous learning\n",
    "\n",
    "-   Validation loss decreases initially but starts rising after epoch 4\n",
    "\n",
    "-   This suggests the model stops generalizing and starts memorizing, leading to overfitting."
   ]
  },
  {
   "cell_type": "markdown",
   "metadata": {},
   "source": [
    "Overall, the model performs well early but overfits after a few epochs. Lets perform hyperparameter tuning and incorporate techniques like **Dropout** etc to see if we can improve the performance of the model  "
   ]
  },
  {
   "cell_type": "markdown",
   "metadata": {},
   "source": [
    "***"
   ]
  },
  {
   "cell_type": "markdown",
   "metadata": {},
   "source": [
    "## Hyperparameter Tuning "
   ]
  },
  {
   "cell_type": "markdown",
   "metadata": {},
   "source": [
    "-   To parameter tune the model, I used a framework called **Optuna** that uses a smart, adaptive search strategy to find the best hyperparameter settings for a model\n",
    "\n",
    "-   Instead of exhaustively trying every combination (like grid search), Optuna uses a technique called Bayesian optimization (specifically, the Tree-structured Parzen Estimator or TPE) to model which hyperparameter combinations are most promising based on past trials. It then shifts future trials toward the most promising parts of the search space, helping the tuning process move faster and get better results more efficiently\n",
    "\n",
    "-   In each trial, Optuna samples a new set of hyperparameters, trains the model, evaluates its performance (e.g. using validation loss), and updates its strategy to improve future suggestions. This leads to finding better models with fewer trials and less computational effort compared to manual or random search."
   ]
  },
  {
   "cell_type": "code",
   "execution_count": 53,
   "metadata": {},
   "outputs": [],
   "source": [
    "save_dir = \"param_tuned_models\"\n",
    "os.makedirs(save_dir, exist_ok=True)\n",
    "logging.basicConfig(level=logging.INFO, format='%(asctime)s [%(levelname)s] %(message)s', stream=sys.stdout, force=True)\n",
    "\n",
    "vocab_size = 20000"
   ]
  },
  {
   "cell_type": "code",
   "execution_count": null,
   "metadata": {},
   "outputs": [],
   "source": [
    "def build_lstm_model(trial):\n",
    "    embedding_dim = trial.suggest_categorical('embedding_dim', [64, 100, 128, 200])\n",
    "    lstm1_units = trial.suggest_categorical('lstm1_units', [64, 128, 256])\n",
    "    lstm2_units = trial.suggest_categorical('lstm2_units', [32, 64, 128])\n",
    "    dropout_rate = trial.suggest_float('dropout', 0.2, 0.5)\n",
    "    learning_rate = trial.suggest_float('learning_rate', 1e-4, 1e-3, log=True)\n",
    "\n",
    "    model = Sequential([\n",
    "        Embedding(input_dim=vocab_size, output_dim=embedding_dim),\n",
    "        LSTM(lstm1_units, return_sequences=True),\n",
    "        LSTM(lstm2_units, return_sequences=False),\n",
    "        Dropout(dropout_rate),\n",
    "        Dense(1, activation='sigmoid')\n",
    "    ])\n",
    "\n",
    "    optimizer = Adam(learning_rate=learning_rate)\n",
    "    model.compile(optimizer=optimizer, loss='binary_crossentropy', metrics=['accuracy'])\n",
    "\n",
    "    return model, {\n",
    "        'embedding_dim': embedding_dim,\n",
    "        'lstm1_units': lstm1_units,\n",
    "        'lstm2_units': lstm2_units,\n",
    "        'dropout': dropout_rate,\n",
    "        'learning_rate': learning_rate\n",
    "    }"
   ]
  },
  {
   "cell_type": "code",
   "execution_count": 55,
   "metadata": {},
   "outputs": [],
   "source": [
    "def objective(trial):\n",
    "    trial_id = trial.number\n",
    "    logging.info(f\"Trial {trial_id} Starting...\")\n",
    "\n",
    "    model, params = build_lstm_model(trial)\n",
    "\n",
    "    batch_size = trial.suggest_categorical('batch_size', [32, 64])\n",
    "    params['batch_size'] = batch_size\n",
    "\n",
    "    logging.info(f\"Trial {trial_id} Hyperparameters: {params}\")\n",
    "\n",
    "    early_stop = EarlyStopping(monitor='val_loss', patience=2, restore_best_weights=True)\n",
    "\n",
    "    history = model.fit(\n",
    "        X_train, y_train,\n",
    "        epochs=8,\n",
    "        batch_size=batch_size,\n",
    "        validation_data=(X_val, y_val),\n",
    "        callbacks=[early_stop],\n",
    "        verbose=0\n",
    "    )\n",
    "\n",
    "    best_val_loss = min(history.history['val_loss'])\n",
    "\n",
    "    model_path = os.path.join(save_dir, f\"trial_{trial_id}.h5\")\n",
    "    model.save(model_path)\n",
    "\n",
    "    logging.info(f\"Trial {trial_id} Completed | val_loss = {best_val_loss:.4f} | Model saved to {model_path}\")\n",
    "    return best_val_loss"
   ]
  },
  {
   "cell_type": "code",
   "execution_count": null,
   "metadata": {},
   "outputs": [
    {
     "name": "stderr",
     "output_type": "stream",
     "text": [
      "[I 2025-04-01 19:19:44,281] A new study created in memory with name: lstm_param_tuning\n"
     ]
    },
    {
     "name": "stdout",
     "output_type": "stream",
     "text": [
      "2025-04-01 19:19:44,282 [INFO] Trial 0 Starting...\n",
      "2025-04-01 19:19:44,334 [INFO] Trial 0 Hyperparameters: {'embedding_dim': 200, 'lstm1_units': 128, 'lstm2_units': 128, 'dropout': 0.23526464807433956, 'learning_rate': 0.00041216282681529314, 'batch_size': 64}\n",
      "2025-04-01 19:43:52,358 [WARNING] You are saving your model as an HDF5 file via `model.save()` or `keras.saving.save_model(model)`. This file format is considered legacy. We recommend using instead the native Keras format, e.g. `model.save('my_model.keras')` or `keras.saving.save_model(model, 'my_model.keras')`. \n",
      "2025-04-01 19:43:52,406 [INFO] Trial 0 Completed | val_loss = 0.6914 | Model saved to param_tuned_models\\trial_0.h5\n"
     ]
    },
    {
     "name": "stderr",
     "output_type": "stream",
     "text": [
      "[I 2025-04-01 19:43:52,408] Trial 0 finished with value: 0.6914156079292297 and parameters: {'embedding_dim': 200, 'lstm1_units': 128, 'lstm2_units': 128, 'dropout': 0.23526464807433956, 'learning_rate': 0.00041216282681529314, 'batch_size': 64}. Best is trial 0 with value: 0.6914156079292297.\n"
     ]
    },
    {
     "name": "stdout",
     "output_type": "stream",
     "text": [
      "2025-04-01 19:43:52,409 [INFO] Trial 1 Starting...\n",
      "2025-04-01 19:43:52,420 [INFO] Trial 1 Hyperparameters: {'embedding_dim': 64, 'lstm1_units': 64, 'lstm2_units': 32, 'dropout': 0.2861115618947169, 'learning_rate': 0.0005373388844378002, 'batch_size': 32}\n",
      "2025-04-01 19:58:52,045 [WARNING] You are saving your model as an HDF5 file via `model.save()` or `keras.saving.save_model(model)`. This file format is considered legacy. We recommend using instead the native Keras format, e.g. `model.save('my_model.keras')` or `keras.saving.save_model(model, 'my_model.keras')`. \n",
      "2025-04-01 19:58:52,072 [INFO] Trial 1 Completed | val_loss = 0.3002 | Model saved to param_tuned_models\\trial_1.h5\n"
     ]
    },
    {
     "name": "stderr",
     "output_type": "stream",
     "text": [
      "[I 2025-04-01 19:58:52,073] Trial 1 finished with value: 0.3001664876937866 and parameters: {'embedding_dim': 64, 'lstm1_units': 64, 'lstm2_units': 32, 'dropout': 0.2861115618947169, 'learning_rate': 0.0005373388844378002, 'batch_size': 32}. Best is trial 1 with value: 0.3001664876937866.\n"
     ]
    },
    {
     "name": "stdout",
     "output_type": "stream",
     "text": [
      "2025-04-01 19:58:52,074 [INFO] Trial 2 Starting...\n",
      "2025-04-01 19:58:52,085 [INFO] Trial 2 Hyperparameters: {'embedding_dim': 200, 'lstm1_units': 256, 'lstm2_units': 64, 'dropout': 0.4936275755687515, 'learning_rate': 0.0002885787839078332, 'batch_size': 64}\n",
      "2025-04-01 20:35:53,284 [WARNING] You are saving your model as an HDF5 file via `model.save()` or `keras.saving.save_model(model)`. This file format is considered legacy. We recommend using instead the native Keras format, e.g. `model.save('my_model.keras')` or `keras.saving.save_model(model, 'my_model.keras')`. \n",
      "2025-04-01 20:35:53,371 [INFO] Trial 2 Completed | val_loss = 0.6860 | Model saved to param_tuned_models\\trial_2.h5\n"
     ]
    },
    {
     "name": "stderr",
     "output_type": "stream",
     "text": [
      "[I 2025-04-01 20:35:53,372] Trial 2 finished with value: 0.6859517097473145 and parameters: {'embedding_dim': 200, 'lstm1_units': 256, 'lstm2_units': 64, 'dropout': 0.4936275755687515, 'learning_rate': 0.0002885787839078332, 'batch_size': 64}. Best is trial 1 with value: 0.3001664876937866.\n"
     ]
    },
    {
     "name": "stdout",
     "output_type": "stream",
     "text": [
      "2025-04-01 20:35:53,373 [INFO] Trial 3 Starting...\n",
      "2025-04-01 20:35:53,383 [INFO] Trial 3 Hyperparameters: {'embedding_dim': 200, 'lstm1_units': 128, 'lstm2_units': 32, 'dropout': 0.33372966243572644, 'learning_rate': 0.0001147539844259012, 'batch_size': 64}\n",
      "2025-04-01 21:00:20,164 [WARNING] You are saving your model as an HDF5 file via `model.save()` or `keras.saving.save_model(model)`. This file format is considered legacy. We recommend using instead the native Keras format, e.g. `model.save('my_model.keras')` or `keras.saving.save_model(model, 'my_model.keras')`. \n",
      "2025-04-01 21:00:20,250 [INFO] Trial 3 Completed | val_loss = 0.6099 | Model saved to param_tuned_models\\trial_3.h5\n"
     ]
    },
    {
     "name": "stderr",
     "output_type": "stream",
     "text": [
      "[I 2025-04-01 21:00:20,252] Trial 3 finished with value: 0.6099440455436707 and parameters: {'embedding_dim': 200, 'lstm1_units': 128, 'lstm2_units': 32, 'dropout': 0.33372966243572644, 'learning_rate': 0.0001147539844259012, 'batch_size': 64}. Best is trial 1 with value: 0.3001664876937866.\n"
     ]
    },
    {
     "name": "stdout",
     "output_type": "stream",
     "text": [
      "2025-04-01 21:00:20,253 [INFO] Trial 4 Starting...\n",
      "2025-04-01 21:00:20,265 [INFO] Trial 4 Hyperparameters: {'embedding_dim': 128, 'lstm1_units': 64, 'lstm2_units': 64, 'dropout': 0.32195107804878675, 'learning_rate': 0.00014480466473277637, 'batch_size': 64}\n",
      "2025-04-01 21:10:47,860 [WARNING] You are saving your model as an HDF5 file via `model.save()` or `keras.saving.save_model(model)`. This file format is considered legacy. We recommend using instead the native Keras format, e.g. `model.save('my_model.keras')` or `keras.saving.save_model(model, 'my_model.keras')`. \n",
      "2025-04-01 21:10:47,895 [INFO] Trial 4 Completed | val_loss = 0.6846 | Model saved to param_tuned_models\\trial_4.h5\n"
     ]
    },
    {
     "name": "stderr",
     "output_type": "stream",
     "text": [
      "[I 2025-04-01 21:10:47,896] Trial 4 finished with value: 0.6845627427101135 and parameters: {'embedding_dim': 128, 'lstm1_units': 64, 'lstm2_units': 64, 'dropout': 0.32195107804878675, 'learning_rate': 0.00014480466473277637, 'batch_size': 64}. Best is trial 1 with value: 0.3001664876937866.\n"
     ]
    },
    {
     "name": "stdout",
     "output_type": "stream",
     "text": [
      "2025-04-01 21:10:47,897 [INFO] Trial 5 Starting...\n",
      "2025-04-01 21:10:47,909 [INFO] Trial 5 Hyperparameters: {'embedding_dim': 100, 'lstm1_units': 64, 'lstm2_units': 64, 'dropout': 0.347825590586919, 'learning_rate': 0.00011622442724482618, 'batch_size': 32}\n",
      "2025-04-01 21:28:55,721 [WARNING] You are saving your model as an HDF5 file via `model.save()` or `keras.saving.save_model(model)`. This file format is considered legacy. We recommend using instead the native Keras format, e.g. `model.save('my_model.keras')` or `keras.saving.save_model(model, 'my_model.keras')`. \n",
      "2025-04-01 21:28:55,792 [INFO] Trial 5 Completed | val_loss = 0.6806 | Model saved to param_tuned_models\\trial_5.h5\n"
     ]
    },
    {
     "name": "stderr",
     "output_type": "stream",
     "text": [
      "[I 2025-04-01 21:28:55,794] Trial 5 finished with value: 0.6806046962738037 and parameters: {'embedding_dim': 100, 'lstm1_units': 64, 'lstm2_units': 64, 'dropout': 0.347825590586919, 'learning_rate': 0.00011622442724482618, 'batch_size': 32}. Best is trial 1 with value: 0.3001664876937866.\n"
     ]
    },
    {
     "name": "stdout",
     "output_type": "stream",
     "text": [
      "2025-04-01 21:28:55,795 [INFO] Trial 6 Starting...\n",
      "2025-04-01 21:28:55,809 [INFO] Trial 6 Hyperparameters: {'embedding_dim': 128, 'lstm1_units': 256, 'lstm2_units': 64, 'dropout': 0.4261662856039429, 'learning_rate': 0.0006178058054133829, 'batch_size': 32}\n",
      "2025-04-01 22:11:23,431 [WARNING] You are saving your model as an HDF5 file via `model.save()` or `keras.saving.save_model(model)`. This file format is considered legacy. We recommend using instead the native Keras format, e.g. `model.save('my_model.keras')` or `keras.saving.save_model(model, 'my_model.keras')`. \n",
      "2025-04-01 22:11:23,511 [INFO] Trial 6 Completed | val_loss = 0.6875 | Model saved to param_tuned_models\\trial_6.h5\n"
     ]
    },
    {
     "name": "stderr",
     "output_type": "stream",
     "text": [
      "[I 2025-04-01 22:11:23,512] Trial 6 finished with value: 0.6875154972076416 and parameters: {'embedding_dim': 128, 'lstm1_units': 256, 'lstm2_units': 64, 'dropout': 0.4261662856039429, 'learning_rate': 0.0006178058054133829, 'batch_size': 32}. Best is trial 1 with value: 0.3001664876937866.\n"
     ]
    },
    {
     "name": "stdout",
     "output_type": "stream",
     "text": [
      "2025-04-01 22:11:23,513 [INFO] Trial 7 Starting...\n",
      "2025-04-01 22:11:23,523 [INFO] Trial 7 Hyperparameters: {'embedding_dim': 64, 'lstm1_units': 128, 'lstm2_units': 64, 'dropout': 0.299978434153229, 'learning_rate': 0.00026900878621151565, 'batch_size': 32}\n",
      "2025-04-01 22:27:19,262 [WARNING] You are saving your model as an HDF5 file via `model.save()` or `keras.saving.save_model(model)`. This file format is considered legacy. We recommend using instead the native Keras format, e.g. `model.save('my_model.keras')` or `keras.saving.save_model(model, 'my_model.keras')`. \n",
      "2025-04-01 22:27:19,328 [INFO] Trial 7 Completed | val_loss = 0.6882 | Model saved to param_tuned_models\\trial_7.h5\n"
     ]
    },
    {
     "name": "stderr",
     "output_type": "stream",
     "text": [
      "[I 2025-04-01 22:27:19,329] Trial 7 finished with value: 0.688231348991394 and parameters: {'embedding_dim': 64, 'lstm1_units': 128, 'lstm2_units': 64, 'dropout': 0.299978434153229, 'learning_rate': 0.00026900878621151565, 'batch_size': 32}. Best is trial 1 with value: 0.3001664876937866.\n"
     ]
    },
    {
     "name": "stdout",
     "output_type": "stream",
     "text": [
      "2025-04-01 22:27:19,330 [INFO] Trial 8 Starting...\n",
      "2025-04-01 22:27:19,341 [INFO] Trial 8 Hyperparameters: {'embedding_dim': 200, 'lstm1_units': 128, 'lstm2_units': 128, 'dropout': 0.3914590909502659, 'learning_rate': 0.0007136709774178373, 'batch_size': 64}\n",
      "2025-04-01 22:46:35,804 [WARNING] You are saving your model as an HDF5 file via `model.save()` or `keras.saving.save_model(model)`. This file format is considered legacy. We recommend using instead the native Keras format, e.g. `model.save('my_model.keras')` or `keras.saving.save_model(model, 'my_model.keras')`. \n",
      "2025-04-01 22:46:35,890 [INFO] Trial 8 Completed | val_loss = 0.6931 | Model saved to param_tuned_models\\trial_8.h5\n"
     ]
    },
    {
     "name": "stderr",
     "output_type": "stream",
     "text": [
      "[I 2025-04-01 22:46:35,891] Trial 8 finished with value: 0.6930783987045288 and parameters: {'embedding_dim': 200, 'lstm1_units': 128, 'lstm2_units': 128, 'dropout': 0.3914590909502659, 'learning_rate': 0.0007136709774178373, 'batch_size': 64}. Best is trial 1 with value: 0.3001664876937866.\n"
     ]
    },
    {
     "name": "stdout",
     "output_type": "stream",
     "text": [
      "2025-04-01 22:46:35,891 [INFO] Trial 9 Starting...\n",
      "2025-04-01 22:46:35,903 [INFO] Trial 9 Hyperparameters: {'embedding_dim': 200, 'lstm1_units': 128, 'lstm2_units': 128, 'dropout': 0.374007906709645, 'learning_rate': 0.0006618478787374257, 'batch_size': 64}\n",
      "2025-04-01 23:11:37,904 [WARNING] You are saving your model as an HDF5 file via `model.save()` or `keras.saving.save_model(model)`. This file format is considered legacy. We recommend using instead the native Keras format, e.g. `model.save('my_model.keras')` or `keras.saving.save_model(model, 'my_model.keras')`. \n",
      "2025-04-01 23:11:37,989 [INFO] Trial 9 Completed | val_loss = 0.6897 | Model saved to param_tuned_models\\trial_9.h5\n"
     ]
    },
    {
     "name": "stderr",
     "output_type": "stream",
     "text": [
      "[I 2025-04-01 23:11:37,991] Trial 9 finished with value: 0.6896740794181824 and parameters: {'embedding_dim': 200, 'lstm1_units': 128, 'lstm2_units': 128, 'dropout': 0.374007906709645, 'learning_rate': 0.0006618478787374257, 'batch_size': 64}. Best is trial 1 with value: 0.3001664876937866.\n"
     ]
    },
    {
     "name": "stdout",
     "output_type": "stream",
     "text": [
      "Best trial:\n",
      "Trial #1\n",
      "Validation loss: 0.3002\n",
      "Hyperparameters:\n",
      "embedding_dim: 64\n",
      "lstm1_units: 64\n",
      "lstm2_units: 32\n",
      "dropout: 0.2861115618947169\n",
      "learning_rate: 0.0005373388844378002\n",
      "batch_size: 32\n"
     ]
    }
   ],
   "source": [
    "study = optuna.create_study(\n",
    "    direction='minimize', \n",
    "    study_name='lstm_param_tuning'\n",
    ")\n",
    "\n",
    "study.optimize(objective, n_trials=10) \n",
    "\n",
    "print(\"Best trial:\")\n",
    "print(f\"Trial #{study.best_trial.number}\")\n",
    "print(f\"Validation loss: {study.best_trial.value:.4f}\")\n",
    "print(\"Hyperparameters:\")\n",
    "for key, value in study.best_trial.params.items():\n",
    "    print(f\"{key}: {value}\")"
   ]
  },
  {
   "cell_type": "markdown",
   "metadata": {},
   "source": [
    "***"
   ]
  },
  {
   "cell_type": "code",
   "execution_count": 5,
   "metadata": {},
   "outputs": [
    {
     "name": "stderr",
     "output_type": "stream",
     "text": [
      "WARNING:absl:Compiled the loaded model, but the compiled metrics have yet to be built. `model.compile_metrics` will be empty until you train or evaluate the model.\n",
      "WARNING:absl:Compiled the loaded model, but the compiled metrics have yet to be built. `model.compile_metrics` will be empty until you train or evaluate the model.\n"
     ]
    }
   ],
   "source": [
    "best_model = load_model(\"./param_tuned_models/trial_1.h5\")\n",
    "baseline_model = load_model('./baseline_models/LSTM_model.h5')"
   ]
  },
  {
   "cell_type": "code",
   "execution_count": 18,
   "metadata": {},
   "outputs": [
    {
     "name": "stdout",
     "output_type": "stream",
     "text": [
      "\u001b[1m235/235\u001b[0m \u001b[32m━━━━━━━━━━━━━━━━━━━━\u001b[0m\u001b[37m\u001b[0m \u001b[1m23s\u001b[0m 92ms/step - accuracy: 0.8792 - loss: 0.3335\n",
      "Test Accuracy for Baseline Model: 0.8757\n"
     ]
    }
   ],
   "source": [
    "test_loss, test_acc = baseline_model.evaluate(X_test, y_test)\n",
    "print(f\"Test Accuracy for Baseline Model: {test_acc:.4f}\")"
   ]
  },
  {
   "cell_type": "code",
   "execution_count": 19,
   "metadata": {},
   "outputs": [
    {
     "name": "stdout",
     "output_type": "stream",
     "text": [
      "\u001b[1m235/235\u001b[0m \u001b[32m━━━━━━━━━━━━━━━━━━━━\u001b[0m\u001b[37m\u001b[0m \u001b[1m12s\u001b[0m 48ms/step - accuracy: 0.8817 - loss: 0.2920\n",
      "Test Accuracy for Tuned Model: 0.8817\n"
     ]
    }
   ],
   "source": [
    "test_loss, test_acc = best_model.evaluate(X_test, y_test)\n",
    "print(f\"Test Accuracy for Tuned Model: {test_acc:.4f}\")"
   ]
  },
  {
   "cell_type": "markdown",
   "metadata": {},
   "source": [
    "| Model Name       | Parameters Used                                                                                                 | Test Accuracy | Test Loss |\n",
    "|------------------|------------------------------------------------------------------------------------------------------------------|---------------|-----------|\n",
    "| **Baseline LSTM** | embedding_dim=128, lstm1_units=128, lstm2_units=64, learning_rate=0.001, batch_size=64 | **87.6%**         | **0.3335**    |\n",
    "| **Tuned LSTM**    | embedding_dim=64, lstm1_units=64, lstm2_units=32, dropout=0.286, learning_rate=0.000537, batch_size=32 | **88.2%**     | **0.2920** |\n"
   ]
  },
  {
   "cell_type": "markdown",
   "metadata": {},
   "source": [
    "### Conclusions \n",
    "\n",
    "-  **Hyperparameter tuning led to a slight performance improvement** : The best-tuned LSTM model achieved a test accuracy of 88.2%, slightly outperforming the baseline model’s 87.6%, and reduced test loss from 0.3335 to 0.2920.\n",
    "\n",
    "-  **Smaller architecture maintained performance while improving efficiency** : Despite using fewer parameters (for eg : embedding_dim=64, lstm1_units=64, lstm2_units=32), the tuned model matched and slightly exceeded the baseline's accuracy, suggesting the baseline was a bit overparameterized \n",
    "\n",
    "-  **Better generalization with dropout and lower learning rate** : The tuned model used a dropout rate of 0.286 and a lower learning rate (0.000537), helping stabilize training and reduce overfitting compared to the baseline.\n",
    "\n",
    "-  **Training efficiency improved** : The tuned model not only performed slightly better but also trained faster (15mins compared to 33mins for baseline), thanks to the smaller architecture and reduced batch size (32 vs. 64)\n",
    "\n",
    "-  Overall, while the performance gain was not dramatic, the tuning process led to a leaner model with slightly better generalization and more efficient training."
   ]
  },
  {
   "cell_type": "markdown",
   "metadata": {},
   "source": [
    "***"
   ]
  },
  {
   "cell_type": "markdown",
   "metadata": {},
   "source": [
    "### We will now experiment with a couple Transformer models :\n",
    "\n",
    "-   Custom Transformer Model\n",
    "\n",
    "-   Pre Trained BERT Model (taken from [Hugging Face](https://huggingface.co/docs/transformers/en/model_doc/bert))"
   ]
  },
  {
   "cell_type": "markdown",
   "metadata": {},
   "source": [
    "#### Why use Transformers?\n",
    "\n",
    "Transformers allow the model to look at every word in a sentence simultaneously and learn which words are most important for understanding meaning. This is done through self-attention — instead of processing text word-by-word like RNNs/LSTMs, transformers process all words at once and **pay attention** to the most relevant ones."
   ]
  },
  {
   "cell_type": "markdown",
   "metadata": {},
   "source": [
    "Movie reviews are often long and nuanced, containing sarcasm, negations, and context spread across multiple sentences. Transformers may be helpful as :\n",
    "\n",
    "-   They capture long-range dependencies (e.g : \"I thought the film would be great... but it was terrible\")\n",
    "\n",
    "-   They don’t suffer from vanishing gradients like LSTMs sometimes do\n",
    "\n",
    "-   They focus on the most important words for sentiment (via attention)"
   ]
  },
  {
   "cell_type": "markdown",
   "metadata": {},
   "source": [
    "We will first train a custom based transformer model to see if it performs better than the LSTM models trained earlier. This will tell us if a small, light transformer (compared to large Pre Trained ones) does a good enough job at predicting sentiment with high accuracy\n",
    "\n",
    "Then, we will use a Pre Trained Transformer (BERT) and fine tune it with our dataset and compare its performance with the other models. The motivation for using BERT arises because it captures context from both directions (left and right) in a sentence, which allows it to understand the nuances of language more effectively than previous models. Pre-trained on vast amounts of text, BERT has learned a rich understanding of grammar, meaning, and relationships in language\n",
    "\n",
    "Fine-tuning a pre-trained model like BERT for specific tasks, such as sentiment analysis, is a fast and efficient way to achieve really good results. It lets you leverage the model’s existing knowledge, saving the time and computational resources required to train a large model from scratch. "
   ]
  },
  {
   "cell_type": "markdown",
   "metadata": {},
   "source": [
    "***"
   ]
  },
  {
   "cell_type": "markdown",
   "metadata": {},
   "source": [
    "# Custom Transformer Model"
   ]
  },
  {
   "cell_type": "code",
   "execution_count": 67,
   "metadata": {},
   "outputs": [],
   "source": [
    "tokenizer = Tokenizer(num_words=20000, oov_token=\"<OOV>\")  \n",
    "tokenizer.fit_on_texts(imdb_data['review']) "
   ]
  },
  {
   "cell_type": "code",
   "execution_count": null,
   "metadata": {},
   "outputs": [],
   "source": [
    "def load_glove_embeddings(glove_file, vocab_size, tokenizer, embedding_dim=200):\n",
    "    embeddings_index = {}\n",
    "\n",
    "    # Read the GloVe file\n",
    "    with open(glove_file, encoding=\"utf-8\") as f:\n",
    "        for line in f:\n",
    "            values = line.split()\n",
    "            word = values[0]\n",
    "            vector = np.asarray(values[1:], dtype='float32')\n",
    "            embeddings_index[word] = vector\n",
    "\n",
    "    # Create an embedding matrix\n",
    "    embedding_matrix = np.zeros((vocab_size, embedding_dim))\n",
    "\n",
    "    for word, index in tokenizer.word_index.items():\n",
    "        if index < vocab_size:  \n",
    "            embedding_vector = embeddings_index.get(word)\n",
    "            if embedding_vector is not None:\n",
    "                embedding_matrix[index] = embedding_vector  \n",
    "\n",
    "    return embedding_matrix\n",
    "\n",
    "# Load the embeddings\n",
    "embedding_matrix = load_glove_embeddings(\"../glove.6B/glove.6B.200d.txt\", vocab_size=20000, tokenizer=tokenizer)"
   ]
  },
  {
   "cell_type": "code",
   "execution_count": null,
   "metadata": {},
   "outputs": [],
   "source": [
    "def create_transformer_model(vocab_size=20000, embed_dim=200, num_heads=4, ff_dim=128, num_transformer_blocks=2, sequence_length=300):\n",
    "    inputs = Input(shape=(sequence_length,))\n",
    "\n",
    "    # GloVe embedding layer\n",
    "    embedding_layer = Embedding(input_dim=vocab_size, output_dim=embed_dim,\n",
    "                                 weights=[embedding_matrix], trainable=True)(inputs)\n",
    "\n",
    "    # Stack Transformer Blocks\n",
    "    x = embedding_layer\n",
    "    for _ in range(num_transformer_blocks):\n",
    "        x = TransformerBlock(embed_dim, num_heads, ff_dim)(x)\n",
    "\n",
    "    # Pooling + Dense classifier\n",
    "    x = GlobalAveragePooling1D()(x)\n",
    "    x = Dense(64, activation=\"relu\")(x)\n",
    "    x = Dropout(0.2)(x)\n",
    "    outputs = Dense(1, activation=\"sigmoid\")(x)\n",
    "\n",
    "    model = Model(inputs=inputs, outputs=outputs)\n",
    "    return model"
   ]
  },
  {
   "cell_type": "markdown",
   "metadata": {},
   "source": [
    "#### Quick Description of Architecture of Model :\n",
    "\n",
    "**Input Layer** \n",
    "\n",
    "-    Takes padded sequences of token IDs (e.g., [12, 45, 78, ...]), each review is of fixed length (300 tokens)\n",
    "\n",
    "**Embedding Layer (with GloVe)**\n",
    "\n",
    "-   Maps each token ID to a pretrained GloVe vector (200 dimensions) (Taken from : [Glove Website](https://nlp.stanford.edu/projects/glove/))\n",
    "\n",
    "-   GloVe (Global Vectors for Word Representation) is a pretrained word embedding model trained on a massive text corpora like Wikipedia. It turns words into dense vectors where semantic relationships are captured. To give the model a strong head start in understanding language, 200-dimensional GloVe vectors were loaded into the embedding layer. These pre-trained word embeddings were mapped to the vocabulary of the IMDB dataset, allowing the model to grasp word meanings and relationships right away. \n",
    "\n",
    "**Tranformer Blocks (x2)** \n",
    "\n",
    "-   Each block has:\n",
    "\n",
    "    -   Multi-Head Self-Attention: Lets each word focus on other words in the review.\n",
    "\n",
    "    -   Feed-Forward Network: Processes each word’s new context-rich vector.\n",
    "\n",
    "    -   Residual Connections + Layer Normalization: Help with stable and efficient training\n",
    "\n",
    "**Global Average Pooling**\n",
    "\n",
    "-   Compresses the sequence of word vectors into a single fixed-size vector.\n",
    "\n",
    "**Dense Layer**\n",
    "\n",
    "-   A fully connected layer (64 neurons, ReLU activation) to learn abstract features.\n",
    "\n",
    "**Dropout Layer**\n",
    "\n",
    "-   Dropout (0.2) for regularization to prevent overfitting.\n",
    "\n",
    "**Output Layer**\n",
    "\n",
    "-   A single neuron with sigmoid activation which outputs the probability of the review being positive.\n",
    "\n"
   ]
  },
  {
   "cell_type": "code",
   "execution_count": 84,
   "metadata": {},
   "outputs": [
    {
     "name": "stdout",
     "output_type": "stream",
     "text": [
      "Epoch 1/10\n",
      "\u001b[1m548/548\u001b[0m \u001b[32m━━━━━━━━━━━━━━━━━━━━\u001b[0m\u001b[37m\u001b[0m \u001b[1m908s\u001b[0m 2s/step - accuracy: 0.7271 - loss: 0.5260 - val_accuracy: 0.8622 - val_loss: 0.3188\n",
      "Epoch 2/10\n",
      "\u001b[1m548/548\u001b[0m \u001b[32m━━━━━━━━━━━━━━━━━━━━\u001b[0m\u001b[37m\u001b[0m \u001b[1m917s\u001b[0m 2s/step - accuracy: 0.8634 - loss: 0.3156 - val_accuracy: 0.8691 - val_loss: 0.2948\n",
      "Epoch 3/10\n",
      "\u001b[1m548/548\u001b[0m \u001b[32m━━━━━━━━━━━━━━━━━━━━\u001b[0m\u001b[37m\u001b[0m \u001b[1m942s\u001b[0m 2s/step - accuracy: 0.8814 - loss: 0.2805 - val_accuracy: 0.8775 - val_loss: 0.2856\n",
      "Epoch 4/10\n",
      "\u001b[1m548/548\u001b[0m \u001b[32m━━━━━━━━━━━━━━━━━━━━\u001b[0m\u001b[37m\u001b[0m \u001b[1m1172s\u001b[0m 2s/step - accuracy: 0.8956 - loss: 0.2484 - val_accuracy: 0.8782 - val_loss: 0.2939\n",
      "Epoch 5/10\n",
      "\u001b[1m548/548\u001b[0m \u001b[32m━━━━━━━━━━━━━━━━━━━━\u001b[0m\u001b[37m\u001b[0m \u001b[1m897s\u001b[0m 2s/step - accuracy: 0.9118 - loss: 0.2186 - val_accuracy: 0.8811 - val_loss: 0.3045\n",
      "Epoch 6/10\n",
      "\u001b[1m548/548\u001b[0m \u001b[32m━━━━━━━━━━━━━━━━━━━━\u001b[0m\u001b[37m\u001b[0m \u001b[1m888s\u001b[0m 2s/step - accuracy: 0.9220 - loss: 0.1934 - val_accuracy: 0.8771 - val_loss: 0.3389\n"
     ]
    }
   ],
   "source": [
    "model = create_transformer_model()\n",
    "\n",
    "early_stopping = EarlyStopping(monitor=\"val_loss\", patience=3, restore_best_weights=True)\n",
    "\n",
    "model.compile(optimizer=Adam(learning_rate=1e-4),\n",
    "              loss=\"binary_crossentropy\",\n",
    "              metrics=[\"accuracy\"])\n",
    "\n",
    "history = model.fit(X_train, y_train,\n",
    "                    epochs=10,\n",
    "                    batch_size=64,\n",
    "                    validation_data=(X_val, y_val),\n",
    "                    callbacks=[early_stopping])"
   ]
  },
  {
   "cell_type": "code",
   "execution_count": 89,
   "metadata": {},
   "outputs": [
    {
     "name": "stdout",
     "output_type": "stream",
     "text": [
      "2025-04-03 12:39:40,976 [WARNING] You are saving your model as an HDF5 file via `model.save()` or `keras.saving.save_model(model)`. This file format is considered legacy. We recommend using instead the native Keras format, e.g. `model.save('my_model.keras')` or `keras.saving.save_model(model, 'my_model.keras')`. \n"
     ]
    }
   ],
   "source": [
    "model.save(\"./baseline_models/transformer_sentiment_model.h5\")"
   ]
  },
  {
   "cell_type": "code",
   "execution_count": null,
   "metadata": {},
   "outputs": [
    {
     "data": {
      "image/png": "[encoded data removed]",
      "text/plain": [
       "<Figure size 1200x500 with 2 Axes>"
      ]
     },
     "metadata": {},
     "output_type": "display_data"
    }
   ],
   "source": [
    "# Extract accuracy and loss values\n",
    "train_loss = history.history['loss']\n",
    "val_loss = history.history['val_loss']\n",
    "train_acc = history.history['accuracy']\n",
    "val_acc = history.history['val_accuracy']\n",
    "\n",
    "# Create subplots\n",
    "plt.figure(figsize=(12, 5))\n",
    "\n",
    "plt.subplot(1, 2, 1)\n",
    "plt.plot(train_acc, label='Training Accuracy')\n",
    "plt.plot(val_acc, label='Validation Accuracy')\n",
    "plt.xlabel('Epochs')\n",
    "plt.ylabel('Accuracy')\n",
    "plt.title('Training vs Validation Accuracy')\n",
    "plt.legend()\n",
    "\n",
    "plt.subplot(1, 2, 2)\n",
    "plt.plot(train_loss, label='Training Loss')\n",
    "plt.plot(val_loss, label='Validation Loss')\n",
    "plt.xlabel('Epochs')\n",
    "plt.ylabel('Loss')\n",
    "plt.title('Training vs Validation Loss')\n",
    "plt.legend()\n",
    "\n",
    "plt.show()"
   ]
  },
  {
   "cell_type": "code",
   "execution_count": 91,
   "metadata": {},
   "outputs": [
    {
     "name": "stdout",
     "output_type": "stream",
     "text": [
      "\u001b[1m235/235\u001b[0m \u001b[32m━━━━━━━━━━━━━━━━━━━━\u001b[0m\u001b[37m\u001b[0m \u001b[1m100s\u001b[0m 426ms/step - accuracy: 0.8807 - loss: 0.2804\n",
      "Test Accuracy: 0.8824\n"
     ]
    }
   ],
   "source": [
    "test_loss, test_acc = model.evaluate(X_test, y_test)\n",
    "print(f\"Test Accuracy: {test_acc:.4f}\")"
   ]
  },
  {
   "cell_type": "markdown",
   "metadata": {},
   "source": [
    "### Custom Transformer Model Results \n",
    "\n",
    "**Training vs Validation Accuracy**\n",
    "\n",
    "-   Training accuracy steadily improved from 80% to 93%, while validation accuracy plateaued around 87-88% after epoch 4-5, showing signs of early overfitting.\n",
    "\n",
    "\n",
    "**Training vs Validation Loss**\n",
    "\n",
    "-  Training loss consistently decreased, but validation loss flattened and eventually increased slightly after epoch 2-3, confirming overfitting as the model learned too much from the training data.\n",
    "\n",
    "**Final Test Accuracy** : Achieved 88.24% test accuracy\n",
    "\n",
    "**Training Time** : Took approx 95 minutes to train, compared to 15 minutes for the best-tuned LSTM model — over 6x longer.   \n",
    "\n",
    "\n"
   ]
  },
  {
   "cell_type": "markdown",
   "metadata": {},
   "source": [
    "From the above, we can see the transformer model only performed slighlty better than the best tuned-LSTM model even though we expected to see a bigger improvement. Here's a couple possible reasons why the Transformer only slightly outperformed the LSTM model :\n",
    "\n",
    "-  **Small Transformer Model** : The Transformer model used was also relatively small, with just two blocks and four attention heads. While Transformers are known for their ability to model long-range dependencies through self-attention, smaller models may not fully leverage this potential, which may have lead to very minimal improvements as we saw\n",
    "\n",
    "-  **Higher Computational Overhead** : Transformers tend to have higher computational overhead due to the self-attention mechanism, which can scale poorly with longer input sequences. For moderately long texts like movie reviews, this could have made the Transformer less efficient without offering a significant accuracy benefit, especially when compared to the more lightweight and sequentially efficient LSTM model"
   ]
  },
  {
   "cell_type": "markdown",
   "metadata": {},
   "source": [
    "***"
   ]
  },
  {
   "cell_type": "markdown",
   "metadata": {},
   "source": [
    "#### Now that we have seen the results of the custon transformer model, lets fine-tune the Pre trained **BERT** model to see if we get better improvements "
   ]
  },
  {
   "cell_type": "markdown",
   "metadata": {},
   "source": [
    "#### Please check **bert_model.ipynb** to see the implemenation and results of the fine tuned model"
   ]
  },
  {
   "cell_type": "markdown",
   "metadata": {},
   "source": [
    "#### Notes :\n",
    "\n",
    "-   I have made a separate notebook for the **BERT** model since it requires very specific versions of **torch**, **tensorflow** and **cuda** which were causing dependency issues in the current python environment. So to keep things simple I made a separate environment with the right versions of all the dependencies \n",
    "\n",
    "-   the list of all libraries/dependencies with their respective versions can be found in **requirements_bert.txt**. Also please refer to **README.md** for some additional commands to ensure **torch** is set up with **cuda** correctly for GPU acceleration (for systems with a GPU) "
   ]
  }
 ],
 "metadata": {
  "kernelspec": {
   "display_name": "Python 3",
   "language": "python",
   "name": "python3"
  },
  "language_info": {
   "codemirror_mode": {
    "name": "ipython",
    "version": 3
   },
   "file_extension": ".py",
   "mimetype": "text/x-python",
   "name": "python",
   "nbconvert_exporter": "python",
   "pygments_lexer": "ipython3",
   "version": "3.12.0"
  }
 },
 "nbformat": 4,
 "nbformat_minor": 2
}
